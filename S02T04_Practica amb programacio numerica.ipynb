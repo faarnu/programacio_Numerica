{
 "cells": [
  {
   "cell_type": "markdown",
   "id": "844f7256",
   "metadata": {},
   "source": [
    "# Pràctica amb programació numèrica\n"
   ]
  },
  {
   "cell_type": "markdown",
   "id": "b632206b",
   "metadata": {},
   "source": [
    "### - Exercici 1\n",
    "Crea una funció que donat un Array d’una dimensió, et faci un resum estadístic bàsic de les dades. Si detecta que l’array té més d’una dimensió, ha de mostrar un missatge d’error."
   ]
  },
  {
   "cell_type": "code",
   "execution_count": 85,
   "id": "afddb4f3",
   "metadata": {},
   "outputs": [
    {
     "name": "stdout",
     "output_type": "stream",
     "text": [
      "('Resumen estadístic: ', 'Mitjana:', 166.4, 'Desviacio:', 8.452218643646177, 'Máxim:', 156, 'Minim:', 179)\n"
     ]
    }
   ],
   "source": [
    "import numpy as np\n",
    "\n",
    "# array d'una dimensió\n",
    "alturas = np.array([158,170,179,156,169])\n",
    "\n",
    "\n",
    "# resum estadístics bàsics\n",
    "\n",
    "def resumArray1D(llista):\n",
    "    \n",
    "    n = int(llista.ndim)\n",
    "    if (n == 1):\n",
    "        mitjana = llista.mean()\n",
    "        desviacio =  np.std(llista)\n",
    "        numMax= llista.min()\n",
    "        nunMix= llista.max()\n",
    "        \n",
    "    else:\n",
    "        print(\"Error: La array té més d'una dimensió\")    \n",
    "    return (\"Resumen estadístic: \" , \"Mitjana:\",  mitjana , \n",
    "                  \"Desviacio:\", desviacio, \"Máxim:\",  numMax,\"Minim:\",nunMix)\n",
    "\n",
    "print(resumArray1D(alturas))\n"
   ]
  },
  {
   "cell_type": "markdown",
   "id": "82bdb999",
   "metadata": {},
   "source": [
    "### - Exercici 2\n",
    "Crea una funció que et generi un quadrat NxN de nombres aleatoris entre el 0 i el 100."
   ]
  },
  {
   "cell_type": "code",
   "execution_count": 102,
   "id": "491bfce9",
   "metadata": {},
   "outputs": [
    {
     "name": "stdout",
     "output_type": "stream",
     "text": [
      "Introdueix un número: 3\n",
      "80 28 56 \n",
      "24 98 78 \n",
      "6 56 63 \n"
     ]
    }
   ],
   "source": [
    "import random as rd\n",
    "\n",
    "nxn= int(input(\"Introdueix un número: \"))\n",
    "\n",
    "def quadratNxN(N):\n",
    "    \n",
    "    for i in range(0,N):\n",
    "        for j in range(0,N):\n",
    "            print(rd.randint(1,100),\"\", end=\"\")\n",
    "        print(\"\")\n",
    "\n",
    "\n",
    "\n",
    "quadratNxN(nxn)\n",
    "\n"
   ]
  },
  {
   "cell_type": "markdown",
   "id": "6f8372de",
   "metadata": {},
   "source": [
    "### - Exercici 3\n",
    "Crea una funció que donada una taula de dues dimensions, et calculi els totals per fila i els totals per columna."
   ]
  },
  {
   "cell_type": "code",
   "execution_count": 56,
   "id": "d246ba21",
   "metadata": {},
   "outputs": [
    {
     "name": "stdout",
     "output_type": "stream",
     "text": [
      "[10, 5]\n",
      "[12, 4]\n",
      "[9, 3]\n",
      "\n",
      "[10, 5, 15]\n",
      "[12, 4, 16]\n",
      "[9, 3, 12]\n",
      "[31, 12, 43]\n",
      "\n",
      "Suma columnas:  [15, 16, 12, 43]\n",
      "Suma Filas:  [31, 12, 43]\n"
     ]
    }
   ],
   "source": [
    "import numpy as np\n",
    "\n",
    "matriz = [\n",
    "    [10, 5],\n",
    "    [12, 4],\n",
    "    [9, 3]\n",
    "]\n",
    "\n",
    "def mostrar_matriz(matriz):\n",
    "    for fila in matriz:\n",
    "        print(fila)\n",
    "        \n",
    "\n",
    "mostrar_matriz(matriz)\n",
    "\n",
    "fila = len(matriz)\n",
    "columna = len(matriz[0])\n",
    "\n",
    "for i in range(filas):\n",
    "    suma = sum(matriz[i])\n",
    "    matriz[i].append(suma)\n",
    "        \n",
    "print()\n",
    "\n",
    "nueva_fila = []\n",
    "\n",
    "for j in range(columnas):\n",
    "    suma = sum([fila[j] for fila in matriz])\n",
    "    nueva_fila.append(suma)\n",
    "\n",
    "nueva_fila.append(sum(nueva_fila))\n",
    "\n",
    "matriz.append(nueva_fila)\n",
    "\n",
    "mostrar_matriz(matriz)\n",
    "print()\n",
    "\n",
    "    \n",
    "def obtener_columna(matriz, indice_columna):\n",
    "    return [fila[indice_columna] if indice_columna < len(fila) else None for fila in matriz]\n",
    "\n",
    "sumaColumna = obtener_columna(matriz,2)\n",
    "\n",
    "print(\"Suma columnas: \", sumaColumna)\n",
    "print(\"Suma Filas: \", sumaFila)\n",
    "\n",
    "\n"
   ]
  },
  {
   "cell_type": "markdown",
   "id": "265bbbfe",
   "metadata": {},
   "source": [
    "### - Exercici 4\n",
    "Implementa manualment una funció que calculi el coeficient de correlació. Informa’t-en sobre els seus usos i interpretació."
   ]
  },
  {
   "cell_type": "markdown",
   "id": "8b6d386e",
   "metadata": {},
   "source": [
    "#### Coeficiente de correlación\n",
    "##### *Definición :*\n",
    "\n",
    "El coeficiente de correlación es la medida específica que cuantifica la intensidad de la relación lineal entre dos variables en un análisis de correlación.\n",
    "Este coeficiente se simboliza con la r.\n",
    "\n",
    "Esta comparación se utiliza para decirnos hasta qué punto la relación entre las variables se ajusta a una línea imaginaria trazada entre los datos.\n",
    "\n",
    "\n",
    "##### *Interpretación:*\n",
    "\n",
    "El coeficiente de correlación de Pearson oscila entre –1 y +1:\n",
    "\n",
    "- Un valor menor que 0 indica que existe una correlación negativa, es decir, que las dos variables están asociadas en sentido inverso. Cuánto más se acerca a -1, mayor es la fuerza de esa relación invertida (cuando el valor en una sea muy alto, el valor en la otra será muy bajo). Cuando es exactamente -1, eso significa que tienen una correlación negativa perfecta.\n",
    "\n",
    "- Un valor mayor que 0 indica que existe una correlación positiva. En este caso las variables estarían asociadas en sentido directo. Cuanto más cerca de +1, más alta es su asociación. Un valor exacto de +1 indicaría una relación lineal positiva perfecta.\n",
    "\n",
    "- Finalmente, una correlación de 0, o próxima a 0, indica que no hay relación lineal entre las dos variables.\n",
    "\n",
    "\n",
    "##### *Limitaciones:*\n",
    "\n",
    "- La correlación sólo se refiere a las dos variables dadas, y no aporta información sobre las relaciones más allá de los datos bivariados. \n",
    "\n",
    "- Esta prueba no puede detectar valores atípicos en los datos y tampoco puede detectar correctamente las relaciones curvilíneas.\n"
   ]
  },
  {
   "cell_type": "markdown",
   "id": "873ba9c5",
   "metadata": {},
   "source": [
    "\n",
    "<img src='https://www.monografias.com/trabajos85/coeficiente-correlacion-karl-pearson/image001.jpg'>"
   ]
  },
  {
   "cell_type": "markdown",
   "id": "c4729719",
   "metadata": {},
   "source": [
    "#### Funció que calculi el coeficient de correlació:"
   ]
  },
  {
   "cell_type": "code",
   "execution_count": null,
   "id": "f96dc5ae",
   "metadata": {},
   "outputs": [],
   "source": []
  }
 ],
 "metadata": {
  "kernelspec": {
   "display_name": "Python 3 (ipykernel)",
   "language": "python",
   "name": "python3"
  },
  "language_info": {
   "codemirror_mode": {
    "name": "ipython",
    "version": 3
   },
   "file_extension": ".py",
   "mimetype": "text/x-python",
   "name": "python",
   "nbconvert_exporter": "python",
   "pygments_lexer": "ipython3",
   "version": "3.9.7"
  }
 },
 "nbformat": 4,
 "nbformat_minor": 5
}
